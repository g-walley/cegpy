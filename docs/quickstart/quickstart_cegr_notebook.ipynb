{
 "cells": [
  {
   "attachments": {},
   "cell_type": "markdown",
   "metadata": {},
   "source": [
    "# Reducing a Chain Event Graph\n",
    "\n",
    "A complete CEG shows all possible trajectories that an individual undergoing the process might experience. However, on observing any evidence, certain or uncertain, some edges and nodes become unvisited with probability 1. The CEG model can be reduced such that these edges and nodes are excluded, without any loss of information. Once reduced, the probabilities displayed can be also be revised.\n",
    "\n",
    "For this example, we will use the `falls.xlsx` dataset."
   ]
  },
  {
   "cell_type": "code",
   "execution_count": null,
   "metadata": {},
   "outputs": [],
   "source": [
    "from cegpy import StagedTree, ChainEventGraph, ChainEventGraphReducer\n",
    "import pandas as pd\n",
    "\n",
    "dataframe = pd.read_excel(\"falls.xlsx\")\n",
    "\n",
    "staged_tree = StagedTree(dataframe)\n",
    "staged_tree.calculate_AHC_transitions()\n",
    "\n",
    "falls_ceg = ChainEventGraph(staged_tree)\n",
    "falls_ceg.create_figure()"
   ]
  },
  {
   "attachments": {},
   "cell_type": "markdown",
   "metadata": {},
   "source": [
    "When examining a dataset with a CEG, you may wish to see a subset of the graph, where some events are excluded with probability zero. Consider the CEG representation of the falls dataset; It may be interesting to split the graph into two graphs, one for individuals on the `Communal` paths, and another for people on the `Community` paths. This is achieved by using uncertain evidence. In our case, we know that anyone who is community assessed will have either passed along the `Community Not Assessed` edge or the `Community Assessed` edge, which can be done like so:"
   ]
  },
  {
   "cell_type": "code",
   "execution_count": null,
   "metadata": {},
   "outputs": [],
   "source": [
    "from cegpy import ChainEventGraphReducer\n",
    "\n",
    "reducer = ChainEventGraphReducer(falls_ceg)\n",
    "reducer.add_uncertain_edge_set(\n",
    "    edge_set={\n",
    "        (\"w0\", \"w4\", \"Community Not Assessed\"),\n",
    "        (\"w0\", \"w3\", \"Community Assessed\"),\n",
    "    }\n",
    ")\n",
    "print(reducer)"
   ]
  },
  {
   "attachments": {},
   "cell_type": "markdown",
   "metadata": {},
   "source": [
    "The reduced graph is stored in the `graph` attribute, and is a `ChainEventGraph` object."
   ]
  },
  {
   "cell_type": "code",
   "execution_count": null,
   "metadata": {},
   "outputs": [],
   "source": [
    "reducer.graph.create_figure()"
   ]
  },
  {
   "attachments": {},
   "cell_type": "markdown",
   "metadata": {},
   "source": [
    "Likewise, we can do the same for the `Communal` graph. In this case, it could be simpler to just specify the sub-graph which contains all paths that pass through nodes w<SUB>1</SUB> and w<SUB>2</SUB>."
   ]
  },
  {
   "cell_type": "code",
   "execution_count": null,
   "metadata": {},
   "outputs": [],
   "source": [
    "reducer = ChainEventGraphReducer(falls_ceg)\n",
    "reducer.add_uncertain_node_set({\"w1\", \"w2\"})\n",
    "reducer.graph.create_figure()"
   ]
  },
  {
   "attachments": {},
   "cell_type": "markdown",
   "metadata": {},
   "source": [
    "It may also be interesting to see the sub-graph of those `Communal` individuals who had a `Fall`."
   ]
  },
  {
   "cell_type": "code",
   "execution_count": null,
   "metadata": {},
   "outputs": [],
   "source": [
    "reducer.add_uncertain_edge_set(\n",
    "    {\n",
    "        (u, v, l) \n",
    "        for (u, v, l) in reducer.graph.edges \n",
    "        if l == \"Fall\"\n",
    "    }\n",
    ")\n",
    "print(reducer)"
   ]
  },
  {
   "attachments": {},
   "cell_type": "markdown",
   "metadata": {},
   "source": [
    "The probabilities are adjusted across all the edges, and back propagated through the graph automatically."
   ]
  },
  {
   "cell_type": "code",
   "execution_count": null,
   "metadata": {},
   "outputs": [],
   "source": [
    "reducer.graph.create_figure()"
   ]
  },
  {
   "attachments": {},
   "cell_type": "markdown",
   "metadata": {},
   "source": [
    "When you would like to adjust the graph to only show paths which pass through a specific edge or node, `certain` evidence is used.\n",
    "\n",
    "Take the following example. You'd like to see what might have happened to an individual who was `Communal Assessed`. This can be done by using the `add_certain_edge` method."
   ]
  },
  {
   "cell_type": "code",
   "execution_count": null,
   "metadata": {},
   "outputs": [],
   "source": [
    "reducer.clear_all_evidence()\n",
    "\n",
    "reducer.add_certain_edge(\"w0\", \"w1\", \"Communal Assessed\")\n",
    "# or reducer.add_certain_node(\"w1\")\n",
    "reducer.graph.create_figure()"
   ]
  }
 ],
 "metadata": {
  "kernelspec": {
   "display_name": "Python 3",
   "language": "python",
   "name": "python3"
  },
  "language_info": {
   "codemirror_mode": {
    "name": "ipython",
    "version": 3
   },
   "file_extension": ".py",
   "mimetype": "text/x-python",
   "name": "python",
   "nbconvert_exporter": "python",
   "pygments_lexer": "ipython3",
   "version": "3.9.12"
  },
  "orig_nbformat": 4,
  "vscode": {
   "interpreter": {
    "hash": "949777d72b0d2535278d3dc13498b2535136f6dfe0678499012e853ee9abcab1"
   }
  }
 },
 "nbformat": 4,
 "nbformat_minor": 2
}
