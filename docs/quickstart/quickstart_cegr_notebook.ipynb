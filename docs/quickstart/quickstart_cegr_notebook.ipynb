{
 "cells": [
  {
   "attachments": {},
   "cell_type": "markdown",
   "metadata": {},
   "source": [
    "# Reducing a Chain Event Graph\n",
    "\n",
    "A complete CEG shows all possible trajectories that an individual undergoing the process might experience. However, on observing any evidence, certain or uncertain, some edges and nodes become unvisited with probability 1. The CEG model can be reduced such that these edges and nodes are excluded, without any loss of information. Once reduced, the probabilities displayed can be also be revised.\n",
    "\n",
    "For this example, we will use the `falls.xlsx` dataset."
   ]
  },
  {
   "cell_type": "code",
   "execution_count": null,
   "metadata": {},
   "outputs": [],
   "source": [
    "from cegpy import StagedTree, ChainEventGraph, ChainEventGraphReducer\n",
    "import pandas as pd\n",
    "\n",
    "dataframe = pd.read_excel(\"falls.xlsx\")\n",
    "\n",
    "staged_tree = StagedTree(dataframe)\n",
    "staged_tree.calculate_AHC_transitions()\n",
    "\n",
    "falls_ceg = ChainEventGraph(staged_tree)\n",
    "falls_ceg.create_figure()"
   ]
  }
 ],
 "metadata": {
  "kernelspec": {
   "display_name": "Python 3",
   "language": "python",
   "name": "python3"
  },
  "language_info": {
   "name": "python",
   "version": "3.9.12 (main, Apr  7 2022, 04:19:52) \n[GCC 10.2.1 20210110]"
  },
  "orig_nbformat": 4,
  "vscode": {
   "interpreter": {
    "hash": "949777d72b0d2535278d3dc13498b2535136f6dfe0678499012e853ee9abcab1"
   }
  }
 },
 "nbformat": 4,
 "nbformat_minor": 2
}
