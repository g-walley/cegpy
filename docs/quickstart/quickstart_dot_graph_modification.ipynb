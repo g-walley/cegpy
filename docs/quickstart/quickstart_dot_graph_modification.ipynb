{
 "cells": [
  {
   "attachments": {},
   "cell_type": "markdown",
   "metadata": {},
   "source": [
    "# How to make visual changes to the graphs?\n",
    "\n",
    "## Changing the colour palette\n",
    "\n",
    "By default, the colours of the nodes in `cegpy` are selected uniformly at random from the entire spectrum of colours. If we want to use a specific colour palette, a list of colours to be used by the AHC algorithm can be specified as a parameter when calling the `create_AHC_transitions` method, for example:"
   ]
  },
  {
   "cell_type": "code",
   "execution_count": null,
   "metadata": {},
   "outputs": [],
   "source": [
    "from cegpy import StagedTree, ChainEventGraph\n",
    "import pandas as pd\n",
    "\n",
    "df = pd.read_excel('../../data/medical_dm_modified.xlsx')\n",
    "\n",
    "st = StagedTree(df)\n",
    "colours = ['#BBCC33','#77AADD','#EE8866','#EEDD88','#FFAABB','#44BB99']\n",
    "st.calculate_AHC_transitions(colour_list=colours)\n",
    "ceg = ChainEventGraph(st)\n",
    "ceg.create_figure()"
   ]
  },
  {
   "attachments": {},
   "cell_type": "markdown",
   "metadata": {},
   "source": [
    "## Modifying graph, node, and edge attributes\n",
    "\n",
    "The graphs in `cegpy` are built with `GraphViz` and `PyDotPlus`. We can access the underlying `pydotplus.graphviz.Dot` object by accessing the `dot_graph property`. This enables visual modifications of our event tree, staged tree, or CEG. For example, the following code modifies the distance between the nodes, changes the style of each edge labelled `\"Hard\"` from solid to dashed, and changes the shape of the root node from oval to square."
   ]
  },
  {
   "cell_type": "code",
   "execution_count": null,
   "metadata": {},
   "outputs": [],
   "source": [
    "from IPython.display import Image\n",
    "\n",
    "g = ceg.dot_graph()\n",
    "g.set('ranksep', 0.1)\n",
    "g.set('nodesep', 0.2)\n",
    "\n",
    "for edge in g.get_edge_list():\n",
    "    if \"Hard\" in edge.get(\"label\"):\n",
    "        edge.set_style('dashed')\n",
    "\n",
    "g.get_node('w0')[-1].set_shape('square')\n",
    "\n",
    "Image(g.create_png())"
   ]
  },
  {
   "attachments": {},
   "cell_type": "markdown",
   "metadata": {},
   "source": [
    "For more information about the available graph, node, and edge attributes refer to the [GraphViz](https://graphviz.org) and [PyDotPlus](https://pydotplus.readthedocs.io) documentation."
   ]
  }
 ],
 "metadata": {
  "kernelspec": {
   "display_name": "Python 3",
   "language": "python",
   "name": "python3"
  },
  "language_info": {
   "codemirror_mode": {
    "name": "ipython",
    "version": 3
   },
   "file_extension": ".py",
   "mimetype": "text/x-python",
   "name": "python",
   "nbconvert_exporter": "python",
   "pygments_lexer": "ipython3",
   "version": "3.9.12 (main, Apr  7 2022, 04:19:52) \n[GCC 10.2.1 20210110]"
  },
  "orig_nbformat": 4,
  "vscode": {
   "interpreter": {
    "hash": "949777d72b0d2535278d3dc13498b2535136f6dfe0678499012e853ee9abcab1"
   }
  }
 },
 "nbformat": 4,
 "nbformat_minor": 2
}
