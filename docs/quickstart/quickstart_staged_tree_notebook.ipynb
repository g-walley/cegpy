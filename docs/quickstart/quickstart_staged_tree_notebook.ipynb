{
 "cells": [
  {
   "attachments": {},
   "cell_type": "markdown",
   "metadata": {},
   "source": [
    "# Creation of a Staged Tree"
   ]
  },
  {
   "attachments": {},
   "cell_type": "markdown",
   "metadata": {},
   "source": [
    "## EventTree Class\n",
    "\n",
    "The first starting point in constructing a Chain Event Graph (CEG) is to create \n",
    "an *event tree* describing the process being studies. An event tree is a directed \n",
    "tree graph with a single root node. The nodes with no emanating edges are\n",
    "called *leaves*, and the non-leaf nodes are called *situations*. \n",
    "\n",
    "To create an event tree from a tabular data set in cegpy we\n",
    "first need to import the data set and then initialise the \n",
    "`EventTree` object which can be done with the following code."
   ]
  },
  {
   "cell_type": "code",
   "execution_count": null,
   "metadata": {},
   "outputs": [],
   "source": [
    "from cegpy import EventTree\n",
    "import pandas as pd\n",
    "\n",
    "df = pd.read_excel('../../data/medical_dm_modified.xlsx')\n",
    "et = EventTree(df)"
   ]
  },
  {
   "attachments": {},
   "cell_type": "markdown",
   "metadata": {},
   "source": [
    "In order to display the EventTree, we can use the method `create_figure()`. The numbers above the edges of the event tree represent the number of indiviuals who passed through the given edge. "
   ]
  },
  {
   "cell_type": "code",
   "execution_count": null,
   "metadata": {},
   "outputs": [],
   "source": [
    "et.create_figure()"
   ]
  },
  {
   "attachments": {},
   "cell_type": "markdown",
   "metadata": {},
   "source": [
    "## StagedTree Class\n",
    "\n",
    "In an event tree, each situation is associated with a transition parameter vector which indicates the conditional\n",
    "probability of an individual, who has arrived at the situation, going along one of its edges. In order to create a CEG, we first need to elict a *staged tree*. \n",
    "This is done by first need to partition situations into *stages*, which are collection of situation in the event tree whose immediate evolutions, i.e. their\n",
    "associated conditional transition parameter vectors, are equivalent. To indicate this symmetry, all situations in the same stage are assinged a single colour.\n",
    "\n",
    "Identification of the stages in the event tree can be done using any suitable model selection algorithm. Currently, the only avaible selection algoirhtm in `cegpy` is the *agglomerative hierarchical clustering (AHC)* algorithm (Freeman and Smith, 2011).\n",
    "\n",
    "In order to creat a staged tree in `cegpy` we first initialize a `StagedTree` object from the dataset and then run th AHC algorithm using the `create_AHC_tarnsitions` method, as displayed below. The output of the AHC algorithm is a dictionary containing the following information:\n",
    "- `Merged Situations` - a list of tuples representing the partition of the nodes into stages\n",
    "- `Log Likelihood` - the log likelihood of the data under the model selected by AHC"
   ]
  },
  {
   "cell_type": "code",
   "execution_count": null,
   "metadata": {},
   "outputs": [],
   "source": [
    "from cegpy import StagedTree\n",
    "\n",
    "st = StagedTree(df)\n",
    "st.calculate_AHC_transitions()"
   ]
  },
  {
   "attachments": {},
   "cell_type": "markdown",
   "metadata": {},
   "source": [
    "Within `cegpy`, singleton stages, i.e. stages contatining a single situation, are coloured white, leaves and their corresponding sink node are coloured in light-grey. Runing AHC on our data set results in the following staged tree."
   ]
  },
  {
   "cell_type": "code",
   "execution_count": null,
   "metadata": {},
   "outputs": [],
   "source": [
    "st.create_figure()"
   ]
  },
  {
   "attachments": {},
   "cell_type": "markdown",
   "metadata": {},
   "source": [
    "### Structural Zeros"
   ]
  },
  {
   "attachments": {},
   "cell_type": "markdown",
   "metadata": {},
   "source": [
    "### Custom Hyperstages"
   ]
  },
  {
   "attachments": {},
   "cell_type": "markdown",
   "metadata": {},
   "source": [
    "### Modifiying the Graph of a StagedTree\n",
    "\n",
    "By default, the colours of the nodes in `cegpy` are selected uniformly at random from the entire spectrum of colours. If we want to use a specific colour palette, a list of colours to be used by the AHC algorithm can be specified as a parameter when calling the `create_AHC_tarnsitions` method, for example:"
   ]
  },
  {
   "cell_type": "code",
   "execution_count": null,
   "metadata": {},
   "outputs": [],
   "source": [
    "colours = ['#BBCC33','#77AADD','#EE8866','#EEDD88','#FFAABB','#44BB99']\n",
    "st.calculate_AHC_transitions(colour_list=colours)\n",
    "st.create_figure()"
   ]
  },
  {
   "attachments": {},
   "cell_type": "markdown",
   "metadata": {},
   "source": [
    "`cepgy` is built on [NetworkX](https://networkx.org) adn [PyDotPlus](https://pydotplus.readthedocs.io), we can access the underlying `pydotplus.grphiviz.Dot` object by accesing the  `dot_graph` property. This enables visual modifications of our staged tree or CEG. For example, the following code modifies the distance between the nodes and changes the style of an edge from solid to dashed."
   ]
  },
  {
   "cell_type": "code",
   "execution_count": null,
   "metadata": {},
   "outputs": [],
   "source": [
    "from IPython.display import Image\n",
    "g = st.dot_graph()\n",
    "g.set('ranksep', 1)\n",
    "g.set('nodesep', 0.005)\n",
    "g.get_edge(('s8', 's20'))[-1].set_style('dashed')\n",
    "Image(g.create_png())"
   ]
  }
 ],
 "metadata": {
  "kernelspec": {
   "display_name": "Python 3 (ipykernel)",
   "language": "python",
   "name": "python3"
  },
  "language_info": {
   "codemirror_mode": {
    "name": "ipython",
    "version": 3
   },
   "file_extension": ".py",
   "mimetype": "text/x-python",
   "name": "python",
   "nbconvert_exporter": "python",
   "pygments_lexer": "ipython3",
   "version": "3.9.12"
  },
  "orig_nbformat": 4,
  "vscode": {
   "interpreter": {
    "hash": "949777d72b0d2535278d3dc13498b2535136f6dfe0678499012e853ee9abcab1"
   }
  }
 },
 "nbformat": 4,
 "nbformat_minor": 2
}
